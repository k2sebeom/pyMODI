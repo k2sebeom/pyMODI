{
 "cells": [
  {
   "cell_type": "markdown",
   "metadata": {},
   "source": [
    "Install required packages"
   ]
  },
  {
   "cell_type": "code",
   "execution_count": null,
   "metadata": {
    "scrolled": false
   },
   "outputs": [],
   "source": [
    "import sys\n",
    "\n",
    "!{sys.executable} -m pip install --upgrade pip\n",
    "!{sys.executable} -m pip install --upgrade opencv-python numpy pymodi scikit-learn --user"
   ]
  },
  {
   "cell_type": "markdown",
   "metadata": {},
   "source": [
    "Import packages"
   ]
  },
  {
   "cell_type": "code",
   "execution_count": null,
   "metadata": {},
   "outputs": [],
   "source": [
    "import numpy as np\n",
    "import cv2\n",
    "from IPython.display import display, Image, clear_output\n",
    "import time\n",
    "import modi"
   ]
  },
  {
   "cell_type": "markdown",
   "metadata": {},
   "source": [
    "Define a necessary helper method"
   ]
  },
  {
   "cell_type": "code",
   "execution_count": null,
   "metadata": {
    "scrolled": true
   },
   "outputs": [],
   "source": [
    "def new_color():\n",
    "    rgb = np.random.randint(0, 255, size=3)\n",
    "    \n",
    "    solid_color = np.zeros((300, 300, 3), np.uint8)\n",
    "    solid_color[:] = rgb[::-1]\n",
    "    _, ret = cv2.imencode('.png', solid_color)\n",
    "    image = Image(data=ret)\n",
    "    display(image)\n",
    "    return rgb\n",
    "\n",
    "new_color()"
   ]
  },
  {
   "cell_type": "markdown",
   "metadata": {},
   "source": [
    "Intialize MODI object"
   ]
  },
  {
   "cell_type": "code",
   "execution_count": null,
   "metadata": {},
   "outputs": [],
   "source": [
    "bundle = modi.MODI()\n",
    "\n",
    "env = bundle.envs[0]\n",
    "button = bundle.buttons[0]"
   ]
  },
  {
   "cell_type": "markdown",
   "metadata": {},
   "source": [
    "Generate data set"
   ]
  },
  {
   "cell_type": "code",
   "execution_count": null,
   "metadata": {
    "scrolled": true
   },
   "outputs": [],
   "source": [
    "train_set = []\n",
    "label_set = []\n",
    "\n",
    "clear_output(wait=True)\n",
    "new_color()\n",
    "input(\"Place your env module on the color and press Enter when ready...\")\n",
    "\n",
    "for i in range(30):\n",
    "    clear_output(wait=True)\n",
    "    rgb = new_color()\n",
    "    time.sleep(0.5)\n",
    "    for i in range(10):\n",
    "        label = rgb / 255\n",
    "        data = [env.red, env.green, env.blue]\n",
    "        label_set.append(label)\n",
    "        train_set.append(data)\n",
    "        print(f\"{data} -> {label}\")\n",
    "        time.sleep(0.1)\n",
    "    time.sleep(0.1)\n",
    "\n",
    "clear_output()\n",
    "print(\"Successfully generated dataset\")\n",
    "    \n",
    "train_set = np.array(train_set)\n",
    "label_set = np.array(label_set)"
   ]
  },
  {
   "cell_type": "markdown",
   "metadata": {},
   "source": [
    "Check out the generated dataset and save them to ./data"
   ]
  },
  {
   "cell_type": "code",
   "execution_count": null,
   "metadata": {
    "scrolled": true
   },
   "outputs": [],
   "source": [
    "print(train_set.shape)\n",
    "print(label_set.shape)\n",
    "\n",
    "np.save('./data/label_set.npy', label_set, allow_pickle=True)\n",
    "np.save('./data/train_set.npy', train_set, allow_pickle=True)"
   ]
  },
  {
   "cell_type": "markdown",
   "metadata": {},
   "source": [
    "Training!!"
   ]
  },
  {
   "cell_type": "code",
   "execution_count": null,
   "metadata": {},
   "outputs": [],
   "source": [
    "from sklearn.neural_network import MLPRegressor\n",
    "from joblib import dump\n",
    "\n",
    "train_set = np.load('./data/train_set.npy', allow_pickle=True)\n",
    "label_set = np.load('./data/label_set.npy', allow_pickle=True)\n",
    "\n",
    "clf = MLPRegressor(hidden_layer_sizes=(50, 50, 20, 10), activation='tanh',\n",
    "                       random_state=1, verbose=True, solver='adam', validation_fraction=0.8, tol=0.00001, max_iter=500,\n",
    "                   learning_rate_init=0.01, early_stopping=False, shuffle=True)\n",
    "\n",
    "clf = clf.fit(train_set, label_set)\n",
    "\n",
    "dump(clf, './model.joblib')"
   ]
  },
  {
   "cell_type": "markdown",
   "metadata": {},
   "source": [
    "Inference!!"
   ]
  },
  {
   "cell_type": "code",
   "execution_count": null,
   "metadata": {},
   "outputs": [],
   "source": [
    "from joblib import load\n",
    "import time\n",
    "\n",
    "clf = load('./model.joblib')\n",
    "\n",
    "while True:\n",
    "    clear_output(wait=True)\n",
    "    rgb_read = np.array([env.red, env.green, env.blue])[np.newaxis, :]\n",
    "    result = clf.predict(rgb_read)[0] * 255\n",
    "    print(result)\n",
    "    color = np.zeros((300, 300, 3), np.uint8)\n",
    "    color[:] = result[::-1]\n",
    "    _, ret = cv2.imencode('.png', color)\n",
    "    image = Image(data=ret)\n",
    "    display(image)\n",
    "    if button.pressed:\n",
    "        break\n",
    "    time.sleep(0.5)\n"
   ]
  }
 ],
 "metadata": {
  "kernelspec": {
   "display_name": "Python 3",
   "language": "python",
   "name": "python3"
  },
  "language_info": {
   "codemirror_mode": {
    "name": "ipython",
    "version": 3
   },
   "file_extension": ".py",
   "mimetype": "text/x-python",
   "name": "python",
   "nbconvert_exporter": "python",
   "pygments_lexer": "ipython3",
   "version": "3.7.3"
  }
 },
 "nbformat": 4,
 "nbformat_minor": 2
}
